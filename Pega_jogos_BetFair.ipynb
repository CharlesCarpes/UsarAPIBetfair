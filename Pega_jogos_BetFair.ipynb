{
  "nbformat": 4,
  "nbformat_minor": 0,
  "metadata": {
    "colab": {
      "provenance": [],
      "authorship_tag": "ABX9TyMI2GcWGwtF/MFBvzRmAD7n",
      "include_colab_link": true
    },
    "kernelspec": {
      "name": "python3",
      "display_name": "Python 3"
    },
    "language_info": {
      "name": "python"
    }
  },
  "cells": [
    {
      "cell_type": "markdown",
      "metadata": {
        "id": "view-in-github",
        "colab_type": "text"
      },
      "source": [
        "<a href=\"https://colab.research.google.com/github/CharlesCarpes/UsarAPIBetfair/blob/main/Pega_jogos_BetFair.ipynb\" target=\"_parent\"><img src=\"https://colab.research.google.com/assets/colab-badge.svg\" alt=\"Open In Colab\"/></a>"
      ]
    },
    {
      "cell_type": "code",
      "source": [
        "!pip install betfairlightweight"
      ],
      "metadata": {
        "id": "eccUzm1JA-Kq"
      },
      "execution_count": null,
      "outputs": []
    },
    {
      "cell_type": "code",
      "source": [
        "!pip install python-dotenv"
      ],
      "metadata": {
        "id": "rvK1j83dhJrE"
      },
      "execution_count": null,
      "outputs": []
    },
    {
      "cell_type": "code",
      "execution_count": 2,
      "metadata": {
        "id": "-ydceOPH_rlf"
      },
      "outputs": [],
      "source": [
        "import datetime\n",
        "from datetime import datetime, timedelta, timezone\n",
        "import pandas as pd\n",
        "import betfairlightweight\n",
        "import time\n",
        "import dotenv\n",
        "import os"
      ]
    },
    {
      "cell_type": "code",
      "source": [
        "#Aqui você vai colocar seu dados pessoas!\n",
        "#cuidado para não compartilhar seu código com esses dados visíveis\n",
        "\n",
        "email = \"seu_email_betfair@gmail.com\"\n",
        "senha = \"sua_senha_da_betfair\"\n",
        "app_key = \"sua_key_gerada_no_video_anterior\""
      ],
      "metadata": {
        "id": "KCGQ9jIcBHRZ"
      },
      "execution_count": null,
      "outputs": []
    },
    {
      "cell_type": "code",
      "source": [
        "#Esses são os comandos de importação para usar no COLAB\n",
        "from google.colab import userdata\n",
        "email = userdata.get('email')\n",
        "senha = userdata.get('senha')\n",
        "app_key = userdata.get('app_key')"
      ],
      "metadata": {
        "id": "mXIkJu1SSmmu"
      },
      "execution_count": 7,
      "outputs": []
    },
    {
      "cell_type": "code",
      "source": [
        "# Carrega as variáveis do arquivo .env\n",
        "# Só funciona se estiver usando o Jupyter\n",
        "\n",
        "dotenv.load_dotenv()\n",
        "email = os.getenv(\"EMAIL\")\n",
        "senha = os.getenv(\"SENHA\")\n",
        "app_key = os.getenv(\"APP_KEY\")\n",
        "print(email)"
      ],
      "metadata": {
        "id": "uRME7LAUhdqT"
      },
      "execution_count": null,
      "outputs": []
    },
    {
      "cell_type": "code",
      "source": [
        "#Fazendo a conexão com BetFair\n",
        "trading = betfairlightweight.APIClient(email, senha, app_key=app_key, cert_files=('/content/FutBetBot.crt','/content/FutBetBot.pem'))\n",
        "trading.login()"
      ],
      "metadata": {
        "id": "yEJCqQ0xCMmx"
      },
      "execution_count": null,
      "outputs": []
    },
    {
      "cell_type": "code",
      "source": [
        "# Definindo os filtros para futebol\n",
        "filtros_competicoes = betfairlightweight.filters.market_filter(\n",
        "        event_type_ids=['1'],  # ID para Futebol\n",
        "        market_start_time={'to': (datetime.utcnow() + timedelta(days=1)).strftime(\"%Y-%m-%dT%TZ\")})#, competition_ids = id_list) # Competições\n",
        "\n",
        "#Dados jogos de hoje e amanhã\n",
        "jogos_futebol = trading.betting.list_events(\n",
        "    filter=filtros_competicoes\n",
        ")"
      ],
      "metadata": {
        "id": "5giHLXGIDHXB"
      },
      "execution_count": null,
      "outputs": []
    },
    {
      "cell_type": "code",
      "source": [
        "#Mostar lista com nomes dos jogos\n",
        "\n",
        "lista_jogos = []\n",
        "for partida in jogos_futebol:\n",
        "    jogo = partida.event.name\n",
        "    lista_jogos.append(jogo)\n",
        "\n",
        "lista_jogos"
      ],
      "metadata": {
        "id": "8r2o38-Kh0Gl"
      },
      "execution_count": null,
      "outputs": []
    },
    {
      "cell_type": "code",
      "source": [
        "#Cria um DataFrame pandas com os dados dos jogos do dia\n",
        "\n",
        "jogos_do_dia = pd.DataFrame({\n",
        "    'NomeEvento': [partida.event.name for partida in jogos_futebol],\n",
        "    'IDEvento': [partida.event.id for partida in jogos_futebol],\n",
        "    'CodPais': [partida.event.country_code for partida in jogos_futebol],\n",
        "    'TimeZone': [partida.event.time_zone for partida in jogos_futebol],\n",
        "    'DataAbertura': [partida.event.open_date for partida in jogos_futebol],\n",
        "    'TotalMercados': [partida.market_count for partida in jogos_futebol],\n",
        "    'DataLocal': [partida.event.open_date.replace(tzinfo=timezone.utc).astimezone(tz=None)\n",
        "                        for partida in jogos_futebol]\n",
        "})\n",
        "\n",
        "jogos_do_dia"
      ],
      "metadata": {
        "id": "hWkVYnsZh7b8"
      },
      "execution_count": null,
      "outputs": []
    }
  ]
}